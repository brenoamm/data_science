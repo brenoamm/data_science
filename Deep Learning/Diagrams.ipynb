{
 "cells": [
  {
   "cell_type": "code",
   "execution_count": 7,
   "id": "4deb4c02-a232-429e-97da-2a51046735ac",
   "metadata": {},
   "outputs": [],
   "source": [
    "import os\n",
    "os.environ[\"PATH\"] += os.pathsep + 'C:/Program Files/Graphviz/bin'\n",
    "\n",
    "from diagrams import Diagram, Edge, Cluster\n",
    "from diagrams.aws.compute import EC2\n",
    "from diagrams.aws.database import RDS\n",
    "from diagrams.generic.database import SQL\n",
    "from diagrams.aws.network import ELB\n",
    "from diagrams.aws.integration import SQS\n",
    "from  diagrams.aws.storage import S3\n",
    "from diagrams.saas.chat import Slack\n",
    "from diagrams.custom import Custom\n",
    "\n",
    "attributes = {\"pad\": \"1.0\", \"fontsize\": \"25\"}\n",
    "with Diagram(\"Sample data flow in microdervice architecture\", show=True, direction=\"LR\",\n",
    "             outformat=\"png\",\n",
    "             graph_attr=attributes):\n",
    "    \n",
    "    with Cluster(\"Service layer\") as services:\n",
    "        service1 = EC2('Service1')\n",
    "        service2 = EC2('Service2')\n",
    "        service3 = EC2('service3')\n",
    "        request_handlers = [service1, service2, service3]\n",
    "        \n",
    "    with Cluster(\"Elastic load balancers\") as elbs:\n",
    "        elb1 =  ELB(\"Load balancer1\")\n",
    "        elb2 =  ELB(\"Load balancer2\")\n",
    "        elbs = [elb1, elb2]\n",
    "    \n",
    "    with Cluster(\"Database layer\") as dblayer:\n",
    "        rds_dbs = [RDS('db1'), RDS('db2')]\n",
    "        sql_db = SQL('db3')\n",
    "    \n",
    "    with Cluster('Batch processing layer') as batch_processors:\n",
    "        service4 = EC2('Service4')\n",
    "        service5 = EC2('Service5')\n",
    "        batch_processors = [service4, service5]\n",
    "    with Cluster('Notification channels') as notifications:\n",
    "        email = Custom('Email notification', 'email.png')\n",
    "        sms = Custom('SMS notification', 'sms.png')\n",
    "        notifications = [Slack('slack notification'), email, sms]\n",
    "\n",
    "    \n",
    "    elb1 >>  Edge(label='requests') >> request_handlers\n",
    "    elb2 >>  Edge(label='requests') >> request_handlers\n",
    "    service1 >> Edge(label='store data') >> rds_dbs\n",
    "    [service2, service3] >> Edge(label='store data') >> sql_db\n",
    "    request_handlers >> SQS('sqs') >> batch_processors \n",
    "    service4 >> Edge(label='sending error notification', color='red', style='dashed') >> notifications\n",
    "    service5 >> Edge(label='sending error notification', color='red', style='dashed') >> notifications"
   ]
  }
 ],
 "metadata": {
  "kernelspec": {
   "display_name": "Python 3 (ipykernel)",
   "language": "python",
   "name": "python3"
  },
  "language_info": {
   "codemirror_mode": {
    "name": "ipython",
    "version": 3
   },
   "file_extension": ".py",
   "mimetype": "text/x-python",
   "name": "python",
   "nbconvert_exporter": "python",
   "pygments_lexer": "ipython3",
   "version": "3.9.5"
  }
 },
 "nbformat": 4,
 "nbformat_minor": 5
}
